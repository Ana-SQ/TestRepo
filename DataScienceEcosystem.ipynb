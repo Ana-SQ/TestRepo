{
 "cells": [
  {
   "cell_type": "markdown",
   "id": "9ce2feec-5b59-452e-947a-6570f91e15be",
   "metadata": {},
   "source": [
    "<h1></h1> Data Science Tools and Ecosystem"
   ]
  },
  {
   "cell_type": "markdown",
   "id": "0fadf11e-5936-48ca-9e90-2e672ab2bd02",
   "metadata": {},
   "source": [
    "# In this notebook, Data Science tools and Ecosystem are summarized"
   ]
  },
  {
   "cell_type": "markdown",
   "id": "5954bde6-bd32-47c5-a1a0-31deaa83f12c",
   "metadata": {},
   "source": [
    "__Objectives:__\n",
    "- List of popular languages for data science\n",
    "- The list of the commonly used libraries use by data scientists\n",
    "- A few examples of arithmetic expressions in Python"
   ]
  },
  {
   "cell_type": "markdown",
   "id": "ee29a255-41db-4821-a1e5-db62bb9e9f4f",
   "metadata": {},
   "source": [
    "# Some of the popular languages that Data Science use are \n",
    "1. Python\n",
    "2. R\n",
    "3. SQL\n",
    "4. Scala\n",
    "5. Java"
   ]
  },
  {
   "cell_type": "markdown",
   "id": "84a2642c-b791-438b-9365-9029896e3f10",
   "metadata": {},
   "source": [
    "# Some of The Commonly used libraries use by Data Scientists include:\n",
    "1. Panda\n",
    "2. Numpy\n",
    "3. Scikit-lear\n",
    "4. Keras\n",
    "5. Apache Spark\n",
    "6. Tensor flow"
   ]
  },
  {
   "cell_type": "markdown",
   "id": "3bcd6e7b-a5a0-4f9c-99ba-b4af7aa46acf",
   "metadata": {
    "editable": true,
    "slideshow": {
     "slide_type": ""
    },
    "tags": []
   },
   "source": [
    "# "
   ]
  },
  {
   "cell_type": "markdown",
   "id": "64ff0b71-ea26-4d5b-8887-83bb37c4905e",
   "metadata": {},
   "source": [
    "|Data Scients tools|\n",
    "|------------------|\n",
    "|Jupiter Notbooks  |\n",
    "|Pytorch           |\n",
    "|MYFlow            | "
   ]
  },
  {
   "cell_type": "markdown",
   "id": "1cc788fa-354a-484b-9b98-0201ed82c80c",
   "metadata": {},
   "source": [
    "<H3>Below are a few examples of evaluating aritmetix expressions in Python</H3> "
   ]
  },
  {
   "cell_type": "code",
   "execution_count": 19,
   "id": "70d7a49e-b35e-4547-9d58-40463fe6085c",
   "metadata": {},
   "outputs": [
    {
     "data": {
      "text/plain": [
       "17"
      ]
     },
     "execution_count": 19,
     "metadata": {},
     "output_type": "execute_result"
    }
   ],
   "source": [
    "#this is a simple arithmetic expression to then add integers#\n",
    "(3*4)+5"
   ]
  },
  {
   "cell_type": "code",
   "execution_count": 20,
   "id": "e7d58637-e5ad-49ad-8291-74a808b764e0",
   "metadata": {},
   "outputs": [
    {
     "data": {
      "text/plain": [
       "True"
      ]
     },
     "execution_count": 20,
     "metadata": {},
     "output_type": "execute_result"
    }
   ],
   "source": [
    "#this will convert 200 minutes into hours diving 60#\n",
    "hours ==200//60"
   ]
  },
  {
   "cell_type": "markdown",
   "id": "04e7d399-3a3c-4bf0-aec9-4b87def3c083",
   "metadata": {
    "editable": true,
    "slideshow": {
     "slide_type": ""
    },
    "tags": []
   },
   "source": [
    "# Author name Ana Sanchez\n",
    "<h2styleheading> \n"
   ]
  }
 ],
 "metadata": {
  "kernelspec": {
   "display_name": "anaconda-panel-2023.05-py310",
   "language": "python",
   "name": "conda-env-anaconda-panel-2023.05-py310-py"
  },
  "language_info": {
   "codemirror_mode": {
    "name": "ipython",
    "version": 3
   },
   "file_extension": ".py",
   "mimetype": "text/x-python",
   "name": "python",
   "nbconvert_exporter": "python",
   "pygments_lexer": "ipython3",
   "version": "3.11.5"
  }
 },
 "nbformat": 4,
 "nbformat_minor": 5
}
